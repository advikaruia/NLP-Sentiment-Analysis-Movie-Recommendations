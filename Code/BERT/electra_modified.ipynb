{
 "cells": [
  {
   "cell_type": "markdown",
   "metadata": {
    "id": "Cb4espuLKJiA"
   },
   "source": [
    "The file is modified from classify_text_with_bert, with the majority of data-loading being unmodified.\n",
    "The majority of explainer text is removed from the original, and the model used has been modified.\n",
    "\n",
    "-> Kept from original file\n",
    "Copyright 2020 The TensorFlow Hub Authors.\n",
    "Licensed under the Apache License, Version 2.0"
   ]
  },
  {
   "cell_type": "code",
   "execution_count": 1,
   "metadata": {
    "execution": {
     "iopub.execute_input": "2021-11-12T12:59:48.820899Z",
     "iopub.status.busy": "2021-11-12T12:59:48.817946Z",
     "iopub.status.idle": "2021-11-12T12:59:50.558283Z",
     "shell.execute_reply": "2021-11-12T12:59:50.557701Z"
    },
    "id": "q-YbjCkzw0yU"
   },
   "outputs": [],
   "source": [
    "# Installs required dependencies\n",
    "#!pip install -q -U tensorflow-text\n",
    "\n",
    "# AdamW optimizer\n",
    "#!pip install -q tf-models-official"
   ]
  },
  {
   "cell_type": "code",
   "execution_count": 2,
   "metadata": {
    "execution": {
     "iopub.execute_input": "2021-11-12T13:00:00.219743Z",
     "iopub.status.busy": "2021-11-12T13:00:00.219147Z",
     "iopub.status.idle": "2021-11-12T13:00:02.855256Z",
     "shell.execute_reply": "2021-11-12T13:00:02.855679Z"
    },
    "id": "_XgTpm9ZxoN9"
   },
   "outputs": [],
   "source": [
    "import os\n",
    "import shutil\n",
    "\n",
    "import tensorflow as tf\n",
    "import tensorflow_hub as hub\n",
    "import tensorflow_text as text\n",
    "from official.nlp import optimization  # to create AdamW optimizer\n",
    "\n",
    "import matplotlib.pyplot as plt\n",
    "\n",
    "tf.get_logger().setLevel('ERROR')"
   ]
  },
  {
   "cell_type": "code",
   "execution_count": 3,
   "metadata": {
    "execution": {
     "iopub.execute_input": "2021-11-12T13:00:02.862307Z",
     "iopub.status.busy": "2021-11-12T13:00:02.861414Z",
     "iopub.status.idle": "2021-11-12T13:00:18.851301Z",
     "shell.execute_reply": "2021-11-12T13:00:18.850763Z"
    },
    "id": "pOdqCMoQDRJL"
   },
   "outputs": [],
   "source": [
    "# Load Data form downloaded folder.\n",
    "# The data should be in a folder the same level as the .ipynb file.\n",
    "# Data should be taken from Google Repo.\n",
    "\n",
    "parent = os.getcwd()\n",
    "dataset_dir = os.path.join(parent, 'aclImdb')\n",
    "train_dir = os.path.join(dataset_dir, 'train')"
   ]
  },
  {
   "cell_type": "code",
   "execution_count": 4,
   "metadata": {
    "execution": {
     "iopub.execute_input": "2021-11-12T13:00:18.858107Z",
     "iopub.status.busy": "2021-11-12T13:00:18.857375Z",
     "iopub.status.idle": "2021-11-12T13:00:22.779361Z",
     "shell.execute_reply": "2021-11-12T13:00:22.779711Z"
    },
    "id": "6IwI_2bcIeX8"
   },
   "outputs": [
    {
     "name": "stdout",
     "output_type": "stream",
     "text": [
      "Found 25000 files belonging to 2 classes.\n",
      "Using 20000 files for training.\n",
      "Found 25000 files belonging to 2 classes.\n",
      "Using 5000 files for validation.\n",
      "Found 25000 files belonging to 2 classes.\n"
     ]
    }
   ],
   "source": [
    "# Initial Parameters, Unmodified\n",
    "\n",
    "AUTOTUNE = tf.data.AUTOTUNE\n",
    "batch_size = 32\n",
    "seed = 42\n",
    "\n",
    "raw_train_ds = tf.keras.preprocessing.text_dataset_from_directory(\n",
    "    'aclImdb/train',\n",
    "    batch_size=batch_size,\n",
    "    validation_split=0.2,\n",
    "    subset='training',\n",
    "    seed=seed)\n",
    "\n",
    "class_names = raw_train_ds.class_names\n",
    "train_ds = raw_train_ds.cache().prefetch(buffer_size=AUTOTUNE)\n",
    "\n",
    "val_ds = tf.keras.preprocessing.text_dataset_from_directory(\n",
    "    'aclImdb/train',\n",
    "    batch_size=batch_size,\n",
    "    validation_split=0.2,\n",
    "    subset='validation',\n",
    "    seed=seed)\n",
    "\n",
    "val_ds = val_ds.cache().prefetch(buffer_size=AUTOTUNE)\n",
    "\n",
    "test_ds = tf.keras.preprocessing.text_dataset_from_directory(\n",
    "    'aclImdb/test',\n",
    "    batch_size=batch_size)\n",
    "\n",
    "test_ds = test_ds.cache().prefetch(buffer_size=AUTOTUNE)"
   ]
  },
  {
   "cell_type": "markdown",
   "metadata": {
    "id": "dX8FtlpGJRE6"
   },
   "source": [
    "### BERT models form TensorFlow\n",
    "Here is where the tutorial and the code that I wrote begins to diverge.\n",
    "We start with a different choice of model to correspond to the NLP task at hand."
   ]
  },
  {
   "cell_type": "code",
   "execution_count": 5,
   "metadata": {
    "cellView": "form",
    "execution": {
     "iopub.execute_input": "2021-11-12T13:00:22.824463Z",
     "iopub.status.busy": "2021-11-12T13:00:22.823821Z",
     "iopub.status.idle": "2021-11-12T13:00:22.826269Z",
     "shell.execute_reply": "2021-11-12T13:00:22.826679Z"
    },
    "id": "y8_ctG55-uTX"
   },
   "outputs": [
    {
     "name": "stdout",
     "output_type": "stream",
     "text": [
      "BERT model selected           : https://tfhub.dev/google/electra_small/2\n",
      "Preprocess model auto-selected: https://tfhub.dev/tensorflow/bert_en_uncased_preprocess/3\n"
     ]
    }
   ],
   "source": [
    "bert_model_name = 'electra_small'\n",
    "\n",
    "handle_encoder = 'https://tfhub.dev/google/electra_small/2'\n",
    "handle_preprocess = 'https://tfhub.dev/tensorflow/bert_en_uncased_preprocess/3'\n",
    "\n",
    "print(f'BERT model selected           : {handle_encoder}')\n",
    "print(f'Preprocess model auto-selected: {handle_preprocess}')"
   ]
  },
  {
   "cell_type": "markdown",
   "metadata": {
    "id": "7WrcxxTRDdHi"
   },
   "source": [
    "### Pre-Processing and BERT\n",
    "Be sure to clear the tf_modules TEMP folder, and then delete it to re-download the module if there are errors.\n",
    "The model of choice is the Electra Model, which is based on BERT, with minor modifications.\n",
    "Pre-processing of text is given, and is usually truncated to the first 128 items."
   ]
  },
  {
   "cell_type": "code",
   "execution_count": 6,
   "metadata": {
    "execution": {
     "iopub.execute_input": "2021-11-12T13:00:22.830674Z",
     "iopub.status.busy": "2021-11-12T13:00:22.830093Z",
     "iopub.status.idle": "2021-11-12T13:00:24.856996Z",
     "shell.execute_reply": "2021-11-12T13:00:24.857422Z"
    },
    "id": "0SQi-jWd_jzq"
   },
   "outputs": [],
   "source": [
    "bert_preprocess_model = hub.KerasLayer(handle_preprocess, name=\"preprocessing\")\n",
    "bert_model = hub.KerasLayer(handle_encoder, trainable=True, name=\"electra\")"
   ]
  },
  {
   "cell_type": "code",
   "execution_count": 7,
   "metadata": {
    "execution": {
     "iopub.execute_input": "2021-11-12T13:00:24.864736Z",
     "iopub.status.busy": "2021-11-12T13:00:24.862635Z",
     "iopub.status.idle": "2021-11-12T13:00:25.034816Z",
     "shell.execute_reply": "2021-11-12T13:00:25.034351Z"
    },
    "id": "r9-zCzJpnuwS"
   },
   "outputs": [
    {
     "name": "stdout",
     "output_type": "stream",
     "text": [
      "Loaded BERT: https://tfhub.dev/google/electra_small/2\n",
      "Word Ids   : [  101  1996 17463  3217  9623  2015  7341  3793  2000  1037]\n",
      "Pooled Outputs Values:[ 0.38453108  0.18330958 -0.5463094   0.13135742 -0.6035003  -0.07489084\n",
      "  0.8030998   0.73567134  0.712655   -0.23594138]\n"
     ]
    }
   ],
   "source": [
    "# Verify that the model was loaded correctly\n",
    "\n",
    "text_test = ['The preprocess maps text to a set of integers, similar to bag of words.']\n",
    "text_preprocessed = bert_preprocess_model(text_test)\n",
    "bert_results = bert_model(text_preprocessed)\n",
    "\n",
    "print(f'Loaded BERT: {handle_encoder}')\n",
    "\n",
    "print(f'Word Ids   : {text_preprocessed[\"input_word_ids\"][0, :10]}')\n",
    "print(f'Pooled Outputs Values:{bert_results[\"pooled_output\"][0, :10]}')"
   ]
  },
  {
   "cell_type": "code",
   "execution_count": 27,
   "metadata": {
    "execution": {
     "iopub.execute_input": "2021-11-12T13:00:31.234377Z",
     "iopub.status.busy": "2021-11-12T13:00:31.233728Z",
     "iopub.status.idle": "2021-11-12T13:00:31.235712Z",
     "shell.execute_reply": "2021-11-12T13:00:31.236098Z"
    },
    "id": "aksj743St9ga"
   },
   "outputs": [],
   "source": [
    "# Define the model. Changes to the architecture of the model should take place here.\n",
    "\n",
    "def build_classifier_model():\n",
    "    # Get raw text, Preprocess it, then pass it through the existing model. Functionally identical to old code.\n",
    "    raw_input = tf.keras.layers.Input(shape=(), dtype=tf.string, name='text')\n",
    "    inputs = bert_preprocess_model(raw_input)\n",
    "    encoder = bert_model\n",
    "    outputs = encoder(inputs)\n",
    "    net = outputs['pooled_output']\n",
    "\n",
    "    # Refining Layer(s)\n",
    "    net = tf.keras.layers.Dense(12, activation=\"sigmoid\", name='hidden')(net)\n",
    "    net = tf.keras.layers.Dropout(0.1, name='dropout')(net)\n",
    "    net = tf.keras.layers.Dense(1, activation=None, name='classifier')(net)\n",
    "    return tf.keras.Model(raw_input, net)"
   ]
  },
  {
   "cell_type": "code",
   "execution_count": 28,
   "metadata": {
    "execution": {
     "iopub.execute_input": "2021-11-12T13:00:31.242934Z",
     "iopub.status.busy": "2021-11-12T13:00:31.242289Z",
     "iopub.status.idle": "2021-11-12T13:00:37.598830Z",
     "shell.execute_reply": "2021-11-12T13:00:37.598378Z"
    },
    "id": "mGMF8AZcB2Zy"
   },
   "outputs": [
    {
     "name": "stdout",
     "output_type": "stream",
     "text": [
      "tf.Tensor([[0.5626942]], shape=(1, 1), dtype=float32)\n"
     ]
    }
   ],
   "source": [
    "# Check that the model runs with the output of the preprocessing model.\n",
    "\n",
    "classifier_model = build_classifier_model()\n",
    "bert_raw_result = classifier_model(tf.constant(text_test))\n",
    "print(tf.sigmoid(bert_raw_result))"
   ]
  },
  {
   "cell_type": "code",
   "execution_count": 29,
   "metadata": {
    "execution": {
     "iopub.execute_input": "2021-11-12T13:00:37.603882Z",
     "iopub.status.busy": "2021-11-12T13:00:37.603297Z",
     "iopub.status.idle": "2021-11-12T13:00:37.811769Z",
     "shell.execute_reply": "2021-11-12T13:00:37.812162Z"
    },
    "id": "0EmzyHZXKIpm"
   },
   "outputs": [
    {
     "data": {
      "image/png": "[encoded data removed]",
      "text/plain": "<IPython.core.display.Image object>"
     },
     "execution_count": 29,
     "metadata": {},
     "output_type": "execute_result"
    }
   ],
   "source": [
    "# While the prior function could have been replaced with a keras.Sequential, but there is little reason to change it.\n",
    "tf.keras.utils.plot_model(classifier_model)"
   ]
  },
  {
   "cell_type": "code",
   "execution_count": 30,
   "metadata": {
    "execution": {
     "iopub.execute_input": "2021-11-12T13:00:37.822898Z",
     "iopub.status.busy": "2021-11-12T13:00:37.821988Z",
     "iopub.status.idle": "2021-11-12T13:00:37.827097Z",
     "shell.execute_reply": "2021-11-12T13:00:37.826511Z"
    },
    "id": "OWPOZE-L3AgE"
   },
   "outputs": [],
   "source": [
    "# Define the loss function\n",
    "loss = tf.keras.losses.BinaryCrossentropy(from_logits=True)\n",
    "\n",
    "# Define the metric of accuracy\n",
    "metrics = tf.metrics.BinaryAccuracy()"
   ]
  },
  {
   "cell_type": "code",
   "execution_count": 31,
   "metadata": {
    "execution": {
     "iopub.execute_input": "2021-11-12T13:00:38.143081Z",
     "iopub.status.busy": "2021-11-12T13:00:37.831802Z",
     "iopub.status.idle": "2021-11-12T13:00:38.144442Z",
     "shell.execute_reply": "2021-11-12T13:00:38.144828Z"
    },
    "id": "P9eP2y9dbw32"
   },
   "outputs": [],
   "source": [
    "# Define the manner of training\n",
    "epochs = 4 # loss increases due to over-fit after ~3 epochs\n",
    "steps_per_epoch = tf.data.experimental.cardinality(train_ds).numpy()\n",
    "num_train_steps = steps_per_epoch * epochs\n",
    "num_warmup_steps = int(0.1*num_train_steps)\n",
    "\n",
    "init_lr = 3e-5\n",
    "optimizer = optimization.create_optimizer(init_lr=init_lr,\n",
    "                                          num_train_steps=num_train_steps,\n",
    "                                          num_warmup_steps=num_warmup_steps,\n",
    "                                          optimizer_type='adamw')"
   ]
  },
  {
   "cell_type": "code",
   "execution_count": 32,
   "metadata": {
    "execution": {
     "iopub.execute_input": "2021-11-12T13:00:38.152662Z",
     "iopub.status.busy": "2021-11-12T13:00:38.152062Z",
     "iopub.status.idle": "2021-11-12T13:00:38.157722Z",
     "shell.execute_reply": "2021-11-12T13:00:38.158099Z"
    },
    "id": "-7GPDhR98jsD"
   },
   "outputs": [],
   "source": [
    "# Compile the model\n",
    "classifier_model.compile(optimizer=optimizer, loss=loss, metrics=metrics)"
   ]
  },
  {
   "cell_type": "code",
   "execution_count": 33,
   "metadata": {
    "execution": {
     "iopub.execute_input": "2021-11-12T13:00:38.162923Z",
     "iopub.status.busy": "2021-11-12T13:00:38.162332Z",
     "iopub.status.idle": "2021-11-12T13:07:39.934896Z",
     "shell.execute_reply": "2021-11-12T13:07:39.935319Z"
    },
    "id": "HtfDFAnN_Neu"
   },
   "outputs": [
    {
     "name": "stdout",
     "output_type": "stream",
     "text": [
      "Training model with https://tfhub.dev/google/electra_small/2\n",
      "Epoch 1/4\n",
      "625/625 [==============================] - 234s 364ms/step - loss: 0.3033 - binary_accuracy: 0.8953 - val_loss: 0.3684 - val_binary_accuracy: 0.8606\n",
      "Epoch 2/4\n",
      "625/625 [==============================] - 225s 360ms/step - loss: 0.2024 - binary_accuracy: 0.9423 - val_loss: 0.4271 - val_binary_accuracy: 0.8600\n",
      "Epoch 3/4\n",
      "625/625 [==============================] - 225s 360ms/step - loss: 0.1799 - binary_accuracy: 0.9537 - val_loss: 0.4328 - val_binary_accuracy: 0.8614\n",
      "Epoch 4/4\n",
      "625/625 [==============================] - 226s 362ms/step - loss: 0.1587 - binary_accuracy: 0.9617 - val_loss: 0.4238 - val_binary_accuracy: 0.8656\n"
     ]
    }
   ],
   "source": [
    "# Train the model\n",
    "print(f'Training model with {handle_encoder}')\n",
    "history = classifier_model.fit(x=train_ds,\n",
    "                               validation_data=val_ds,\n",
    "                               epochs=epochs)"
   ]
  },
  {
   "cell_type": "code",
   "execution_count": 34,
   "metadata": {
    "execution": {
     "iopub.execute_input": "2021-11-12T13:07:39.940316Z",
     "iopub.status.busy": "2021-11-12T13:07:39.939738Z",
     "iopub.status.idle": "2021-11-12T13:08:38.589871Z",
     "shell.execute_reply": "2021-11-12T13:08:38.589344Z"
    },
    "id": "slqB-urBV9sP"
   },
   "outputs": [
    {
     "name": "stdout",
     "output_type": "stream",
     "text": [
      "782/782 [==============================] - 93s 118ms/step - loss: 0.4098 - binary_accuracy: 0.8684\n",
      "Loss: 0.4098067283630371\n",
      "Accuracy: 0.868399977684021\n"
     ]
    }
   ],
   "source": [
    "# Evaluate the Model\n",
    "\n",
    "loss, accuracy = classifier_model.evaluate(test_ds)\n",
    "\n",
    "print(f'Loss: {loss}')\n",
    "print(f'Accuracy: {accuracy}')"
   ]
  },
  {
   "cell_type": "code",
   "execution_count": 35,
   "metadata": {
    "execution": {
     "iopub.execute_input": "2021-11-12T13:08:38.615719Z",
     "iopub.status.busy": "2021-11-12T13:08:38.608760Z",
     "iopub.status.idle": "2021-11-12T13:08:38.903514Z",
     "shell.execute_reply": "2021-11-12T13:08:38.903930Z"
    },
    "id": "fiythcODf0xo"
   },
   "outputs": [
    {
     "name": "stdout",
     "output_type": "stream",
     "text": [
      "dict_keys(['loss', 'binary_accuracy', 'val_loss', 'val_binary_accuracy'])\n"
     ]
    },
    {
     "data": {
      "text/plain": "<matplotlib.legend.Legend at 0x1fbe1355ca0>"
     },
     "execution_count": 35,
     "metadata": {},
     "output_type": "execute_result"
    },
    {
     "data": {
      "text/plain": "<Figure size 720x432 with 2 Axes>",
      "image/png": "[encoded data removed]"
     },
     "metadata": {
      "needs_background": "light"
     },
     "output_type": "display_data"
    }
   ],
   "source": [
    "# The following code is unchanged from the original file, baring minor edits.\n",
    "\n",
    "history_dict = history.history\n",
    "print(history_dict.keys())\n",
    "\n",
    "acc = history_dict['binary_accuracy']\n",
    "val_acc = history_dict['val_binary_accuracy']\n",
    "loss = history_dict['loss']\n",
    "val_loss = history_dict['val_loss']\n",
    "\n",
    "epochs = range(1, len(acc) + 1)\n",
    "fig = plt.figure(figsize=(10, 6))\n",
    "fig.tight_layout()\n",
    "\n",
    "plt.subplot(2, 1, 1)\n",
    "\n",
    "plt.plot(epochs, loss, 'r', label='Training loss')\n",
    "plt.plot(epochs, val_loss, 'b', label='Validation loss')\n",
    "\n",
    "plt.title('Training and validation loss')\n",
    "plt.ylabel('Loss')\n",
    "plt.legend()\n",
    "\n",
    "plt.subplot(2, 1, 2)\n",
    "plt.plot(epochs, acc, 'r', label='Training acc')\n",
    "plt.plot(epochs, val_acc, 'b', label='Validation acc')\n",
    "plt.title('Training and validation accuracy')\n",
    "plt.xlabel('Epochs')\n",
    "plt.ylabel('Accuracy')\n",
    "plt.legend(loc='lower right')"
   ]
  },
  {
   "cell_type": "code",
   "execution_count": 36,
   "metadata": {
    "execution": {
     "iopub.execute_input": "2021-11-12T13:08:38.915085Z",
     "iopub.status.busy": "2021-11-12T13:08:38.910462Z",
     "iopub.status.idle": "2021-11-12T13:08:44.894271Z",
     "shell.execute_reply": "2021-11-12T13:08:44.893545Z"
    },
    "id": "ShcvqJAgVera",
    "pycharm": {
     "name": "#%%\n"
    }
   },
   "outputs": [
    {
     "name": "stderr",
     "output_type": "stream",
     "text": [
      "WARNING:absl:Found untraced functions such as restored_function_body, restored_function_body, restored_function_body, restored_function_body, restored_function_body while saving (showing 5 of 900). These functions will not be directly callable after loading.\n"
     ]
    }
   ],
   "source": [
    "# Export the model for later use\n",
    "\n",
    "saved_model_path = './imdb_models/electra_modified'\n",
    "classifier_model.save(saved_model_path, include_optimizer=False)"
   ]
  }
 ],
 "metadata": {
  "colab": {
   "collapsed_sections": [],
   "name": "classify_text_with_bert.ipynb",
   "provenance": [],
   "toc_visible": true
  },
  "kernelspec": {
   "display_name": "Python 3",
   "language": "python",
   "name": "python3"
  },
  "language_info": {
   "codemirror_mode": {
    "name": "ipython",
    "version": 3
   },
   "file_extension": ".py",
   "mimetype": "text/x-python",
   "name": "python",
   "nbconvert_exporter": "python",
   "pygments_lexer": "ipython3",
   "version": "3.9.0"
  }
 },
 "nbformat": 4,
 "nbformat_minor": 1
}