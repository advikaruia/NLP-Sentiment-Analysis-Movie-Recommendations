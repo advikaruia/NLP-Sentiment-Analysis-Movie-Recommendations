{
 "cells": [
  {
   "cell_type": "markdown",
   "metadata": {
    "id": "Cb4espuLKJiA"
   },
   "source": [
    "The file is modified from its original code, with the majority of data-loading being unmodified.\n",
    "The majority of explainer text is removed from the original, and the\n",
    "\n",
    "Copyright 2020 The TensorFlow Hub Authors.\n",
    "Licensed under the Apache License, Version 2.0"
   ]
  },
  {
   "cell_type": "code",
   "execution_count": 1,
   "metadata": {
    "execution": {
     "iopub.execute_input": "2021-11-12T12:59:48.820899Z",
     "iopub.status.busy": "2021-11-12T12:59:48.817946Z",
     "iopub.status.idle": "2021-11-12T12:59:50.558283Z",
     "shell.execute_reply": "2021-11-12T12:59:50.557701Z"
    },
    "id": "q-YbjCkzw0yU"
   },
   "outputs": [],
   "source": [
    "# Installs required dependencies\n",
    "#!pip install -q -U tensorflow-text\n",
    "\n",
    "# AdamW optimizer\n",
    "#!pip install -q tf-models-official"
   ]
  },
  {
   "cell_type": "code",
   "execution_count": 2,
   "metadata": {
    "execution": {
     "iopub.execute_input": "2021-11-12T13:00:00.219743Z",
     "iopub.status.busy": "2021-11-12T13:00:00.219147Z",
     "iopub.status.idle": "2021-11-12T13:00:02.855256Z",
     "shell.execute_reply": "2021-11-12T13:00:02.855679Z"
    },
    "id": "_XgTpm9ZxoN9"
   },
   "outputs": [],
   "source": [
    "import os\n",
    "import shutil\n",
    "\n",
    "import tensorflow as tf\n",
    "import tensorflow_hub as hub\n",
    "import tensorflow_text as text\n",
    "from official.nlp import optimization  # to create AdamW optimizer\n",
    "\n",
    "import matplotlib.pyplot as plt\n",
    "\n",
    "tf.get_logger().setLevel('ERROR')"
   ]
  },
  {
   "cell_type": "markdown",
   "metadata": {
    "id": "Vnvd4mrtPHHV"
   },
   "source": [
    "Loads the existing data from downloaded folder."
   ]
  },
  {
   "cell_type": "code",
   "execution_count": 3,
   "metadata": {
    "execution": {
     "iopub.execute_input": "2021-11-12T13:00:02.862307Z",
     "iopub.status.busy": "2021-11-12T13:00:02.861414Z",
     "iopub.status.idle": "2021-11-12T13:00:18.851301Z",
     "shell.execute_reply": "2021-11-12T13:00:18.850763Z"
    },
    "id": "pOdqCMoQDRJL"
   },
   "outputs": [],
   "source": [
    "#url = 'https://ai.stanford.edu/~amaas/data/sentiment/aclImdb_v1.tar.gz'\n",
    "#dataset = tf.keras.utils.get_file('aclImdb_v1.tar.gz', url, untar=True, cache_dir='.', cache_subdir='')\n",
    "\n",
    "# The data should be in a folder the same level as the .ipynb file.\n",
    "parent = os.getcwd()\n",
    "\n",
    "dataset_dir = os.path.join(parent, 'aclImdb')\n",
    "train_dir = os.path.join(dataset_dir, 'train')\n",
    "\n",
    "# Re-running this throws an error\n",
    "# remove unused folders to make it easier to load the data\n",
    "# remove_dir = os.path.join(train_dir, 'unsup')\n",
    "# shutil.rmtree(remove_dir)"
   ]
  },
  {
   "cell_type": "markdown",
   "metadata": {
    "id": "lN9lWCYfPo7b"
   },
   "source": [
    "Initial Parameters, unmodified"
   ]
  },
  {
   "cell_type": "code",
   "execution_count": 4,
   "metadata": {
    "execution": {
     "iopub.execute_input": "2021-11-12T13:00:18.858107Z",
     "iopub.status.busy": "2021-11-12T13:00:18.857375Z",
     "iopub.status.idle": "2021-11-12T13:00:22.779361Z",
     "shell.execute_reply": "2021-11-12T13:00:22.779711Z"
    },
    "id": "6IwI_2bcIeX8"
   },
   "outputs": [
    {
     "name": "stdout",
     "output_type": "stream",
     "text": [
      "Found 25000 files belonging to 2 classes.\n",
      "Using 20000 files for training.\n",
      "Found 25000 files belonging to 2 classes.\n",
      "Using 5000 files for validation.\n",
      "Found 25000 files belonging to 2 classes.\n"
     ]
    }
   ],
   "source": [
    "AUTOTUNE = tf.data.AUTOTUNE\n",
    "batch_size = 32\n",
    "seed = 42\n",
    "\n",
    "raw_train_ds = tf.keras.preprocessing.text_dataset_from_directory(\n",
    "    'aclImdb/train',\n",
    "    batch_size=batch_size,\n",
    "    validation_split=0.2,\n",
    "    subset='training',\n",
    "    seed=seed)\n",
    "\n",
    "class_names = raw_train_ds.class_names\n",
    "train_ds = raw_train_ds.cache().prefetch(buffer_size=AUTOTUNE)\n",
    "\n",
    "val_ds = tf.keras.preprocessing.text_dataset_from_directory(\n",
    "    'aclImdb/train',\n",
    "    batch_size=batch_size,\n",
    "    validation_split=0.2,\n",
    "    subset='validation',\n",
    "    seed=seed)\n",
    "\n",
    "val_ds = val_ds.cache().prefetch(buffer_size=AUTOTUNE)\n",
    "\n",
    "test_ds = tf.keras.preprocessing.text_dataset_from_directory(\n",
    "    'aclImdb/test',\n",
    "    batch_size=batch_size)\n",
    "\n",
    "test_ds = test_ds.cache().prefetch(buffer_size=AUTOTUNE)"
   ]
  },
  {
   "cell_type": "markdown",
   "metadata": {
    "id": "dX8FtlpGJRE6"
   },
   "source": [
    "# BERT models form TensorFlow\n",
    "Here is where the tutorial and the code that I wrote begins to diverge.\n",
    "We start with a different choice of model to correspond to the NLP task at hand."
   ]
  },
  {
   "cell_type": "code",
   "execution_count": 5,
   "metadata": {
    "cellView": "form",
    "execution": {
     "iopub.execute_input": "2021-11-12T13:00:22.824463Z",
     "iopub.status.busy": "2021-11-12T13:00:22.823821Z",
     "iopub.status.idle": "2021-11-12T13:00:22.826269Z",
     "shell.execute_reply": "2021-11-12T13:00:22.826679Z"
    },
    "id": "y8_ctG55-uTX"
   },
   "outputs": [
    {
     "name": "stdout",
     "output_type": "stream",
     "text": [
      "BERT model selected           : https://tfhub.dev/google/electra_small/2\n",
      "Preprocess model auto-selected: https://tfhub.dev/tensorflow/bert_en_uncased_preprocess/3\n"
     ]
    }
   ],
   "source": [
    "bert_model_name = 'electra_small'\n",
    "\n",
    "handle_encoder = 'https://tfhub.dev/google/electra_small/2'\n",
    "handle_preprocess = 'https://tfhub.dev/tensorflow/bert_en_uncased_preprocess/3'\n",
    "\n",
    "print(f'BERT model selected           : {handle_encoder}')\n",
    "print(f'Preprocess model auto-selected: {handle_preprocess}')"
   ]
  },
  {
   "cell_type": "markdown",
   "metadata": {
    "id": "7WrcxxTRDdHi"
   },
   "source": [
    "## Pre-Processing and BERT\n",
    "### If this gives an error, be sure to clear the tf_modules TEMP folder.\n",
    "The model of choice is the Electra Model, which is based on BERT.\n",
    "Pre-processing is given, and is typically truncated to the first 128 items."
   ]
  },
  {
   "cell_type": "code",
   "execution_count": 6,
   "metadata": {
    "execution": {
     "iopub.execute_input": "2021-11-12T13:00:22.830674Z",
     "iopub.status.busy": "2021-11-12T13:00:22.830093Z",
     "iopub.status.idle": "2021-11-12T13:00:24.856996Z",
     "shell.execute_reply": "2021-11-12T13:00:24.857422Z"
    },
    "id": "0SQi-jWd_jzq"
   },
   "outputs": [],
   "source": [
    "bert_preprocess_model = hub.KerasLayer(handle_preprocess, name=\"preprocessing\")\n",
    "bert_model = hub.KerasLayer(handle_encoder, trainable=True, name=\"electra\")"
   ]
  },
  {
   "cell_type": "markdown",
   "metadata": {
    "id": "x4naBiEE_cZX"
   },
   "source": [
    "Verify the preprocessing and model works:"
   ]
  },
  {
   "cell_type": "code",
   "execution_count": 7,
   "metadata": {
    "execution": {
     "iopub.execute_input": "2021-11-12T13:00:24.864736Z",
     "iopub.status.busy": "2021-11-12T13:00:24.862635Z",
     "iopub.status.idle": "2021-11-12T13:00:25.034816Z",
     "shell.execute_reply": "2021-11-12T13:00:25.034351Z"
    },
    "id": "r9-zCzJpnuwS"
   },
   "outputs": [
    {
     "name": "stdout",
     "output_type": "stream",
     "text": [
      "Loaded BERT: https://tfhub.dev/google/electra_small/2\n",
      "Word Ids   : [  101  1996 17463  3217  9623  2015  7341  3793  2000  1037]\n",
      "Pooled Outputs Values:[ 0.38453108  0.18330958 -0.5463094   0.13135742 -0.6035003  -0.07489084\n",
      "  0.8030998   0.73567134  0.712655   -0.23594138]\n"
     ]
    }
   ],
   "source": [
    "text_test = ['The preprocess maps text to a set of integers, similar to bag of words.']\n",
    "text_preprocessed = bert_preprocess_model(text_test)\n",
    "bert_results = bert_model(text_preprocessed)\n",
    "\n",
    "print(f'Loaded BERT: {handle_encoder}')\n",
    "\n",
    "print(f'Word Ids   : {text_preprocessed[\"input_word_ids\"][0, :10]}')\n",
    "print(f'Pooled Outputs Values:{bert_results[\"pooled_output\"][0, :10]}')"
   ]
  },
  {
   "cell_type": "markdown",
   "metadata": {
    "id": "pDNKfAXbDnJH"
   },
   "source": [
    "## ML Model - Overview\n",
    "\n",
    "The original model consisted of a preprocessing layer that feeds data into a preconfigured BERT model.\n",
    "However, the weights of this BERT model are completely irrelevant to the task at hand, and therefore need to be implemented.\n",
    "The tutorial fine-tuned the BERT model with a Dense Layer and a Dropout layer,\n",
    "However, since we\n",
    "\n",
    "Note: for more information about the base model's input and output you can follow the model's URL for documentation. Here specifically, you don't need to worry about it because the preprocessing model will take care of that for you.\n"
   ]
  },
  {
   "cell_type": "code",
   "execution_count": 28,
   "metadata": {
    "execution": {
     "iopub.execute_input": "2021-11-12T13:00:31.234377Z",
     "iopub.status.busy": "2021-11-12T13:00:31.233728Z",
     "iopub.status.idle": "2021-11-12T13:00:31.235712Z",
     "shell.execute_reply": "2021-11-12T13:00:31.236098Z"
    },
    "id": "aksj743St9ga"
   },
   "outputs": [],
   "source": [
    "def build_classifier_model():\n",
    "    # Get raw text, Preprocess it, then pass it through the existing model. Functionally identical to old code.\n",
    "    raw_input = tf.keras.layers.Input(shape=(), dtype=tf.string, name='text')\n",
    "    inputs = bert_preprocess_model(raw_input)\n",
    "    encoder = bert_model\n",
    "    outputs = encoder(inputs)\n",
    "    net = outputs['pooled_output']\n",
    "\n",
    "    # Refining Layer(s)\n",
    "    net = tf.keras.layers.Dense(8, activation=\"sigmoid\", name='hidden')(net)\n",
    "    net = tf.keras.layers.Dropout(0.1, name='dropout')(net)\n",
    "    net = tf.keras.layers.Dense(1, activation=None, name='classifier')(net)\n",
    "    return tf.keras.Model(raw_input, net)"
   ]
  },
  {
   "cell_type": "markdown",
   "metadata": {
    "id": "Zs4yhFraBuGQ"
   },
   "source": [
    "Check that the model runs with the output of the preprocessing model."
   ]
  },
  {
   "cell_type": "code",
   "execution_count": 29,
   "metadata": {
    "execution": {
     "iopub.execute_input": "2021-11-12T13:00:31.242934Z",
     "iopub.status.busy": "2021-11-12T13:00:31.242289Z",
     "iopub.status.idle": "2021-11-12T13:00:37.598830Z",
     "shell.execute_reply": "2021-11-12T13:00:37.598378Z"
    },
    "id": "mGMF8AZcB2Zy"
   },
   "outputs": [
    {
     "name": "stdout",
     "output_type": "stream",
     "text": [
      "tf.Tensor([[0.43451178]], shape=(1, 1), dtype=float32)\n"
     ]
    }
   ],
   "source": [
    "classifier_model = build_classifier_model()\n",
    "bert_raw_result = classifier_model(tf.constant(text_test))\n",
    "print(tf.sigmoid(bert_raw_result))"
   ]
  },
  {
   "cell_type": "code",
   "execution_count": 30,
   "metadata": {
    "execution": {
     "iopub.execute_input": "2021-11-12T13:00:37.603882Z",
     "iopub.status.busy": "2021-11-12T13:00:37.603297Z",
     "iopub.status.idle": "2021-11-12T13:00:37.811769Z",
     "shell.execute_reply": "2021-11-12T13:00:37.812162Z"
    },
    "id": "0EmzyHZXKIpm"
   },
   "outputs": [
    {
     "data": {
      "image/png": "[encoded data removed]",
      "text/plain": "<IPython.core.display.Image object>"
     },
     "execution_count": 30,
     "metadata": {},
     "output_type": "execute_result"
    }
   ],
   "source": [
    "tf.keras.utils.plot_model(classifier_model)"
   ]
  },
  {
   "cell_type": "markdown",
   "metadata": {
    "id": "WbUWoZMwc302"
   },
   "source": [
    "## Model training\n",
    "\n",
    "You now have all the pieces to train a model, including the preprocessing module, BERT encoder, data, and classifier."
   ]
  },
  {
   "cell_type": "markdown",
   "metadata": {
    "id": "WpJ3xcwDT56v"
   },
   "source": [
    "### Loss function\n",
    "\n",
    "Since this is a binary classification problem and the model outputs a probability (a single-unit layer), you'll use `losses.BinaryCrossentropy` loss function.\n"
   ]
  },
  {
   "cell_type": "code",
   "execution_count": 31,
   "metadata": {
    "execution": {
     "iopub.execute_input": "2021-11-12T13:00:37.822898Z",
     "iopub.status.busy": "2021-11-12T13:00:37.821988Z",
     "iopub.status.idle": "2021-11-12T13:00:37.827097Z",
     "shell.execute_reply": "2021-11-12T13:00:37.826511Z"
    },
    "id": "OWPOZE-L3AgE"
   },
   "outputs": [],
   "source": [
    "loss = tf.keras.losses.BinaryCrossentropy(from_logits=True)\n",
    "metrics = tf.metrics.BinaryAccuracy()"
   ]
  },
  {
   "cell_type": "markdown",
   "metadata": {
    "id": "77psrpfzbxtp"
   },
   "source": [
    "### Optimizer\n",
    "\n",
    "For fine-tuning, let's use the same optimizer that BERT was originally trained with: the \"Adaptive Moments\" (Adam). This optimizer minimizes the prediction loss and does regularization by weight decay (not using moments), which is also known as [AdamW](https://arxiv.org/abs/1711.05101).\n",
    "\n",
    "For the learning rate (`init_lr`), you will use the same schedule as BERT pre-training: linear decay of a notional initial learning rate, prefixed with a linear warm-up phase over the first 10% of training steps (`num_warmup_steps`). In line with the BERT paper, the initial learning rate is smaller for fine-tuning (best of 5e-5, 3e-5, 2e-5)."
   ]
  },
  {
   "cell_type": "code",
   "execution_count": 32,
   "metadata": {
    "execution": {
     "iopub.execute_input": "2021-11-12T13:00:38.143081Z",
     "iopub.status.busy": "2021-11-12T13:00:37.831802Z",
     "iopub.status.idle": "2021-11-12T13:00:38.144442Z",
     "shell.execute_reply": "2021-11-12T13:00:38.144828Z"
    },
    "id": "P9eP2y9dbw32"
   },
   "outputs": [],
   "source": [
    "epochs = 4 # loss increases due to over-fit after ~3 epochs\n",
    "steps_per_epoch = tf.data.experimental.cardinality(train_ds).numpy()\n",
    "num_train_steps = steps_per_epoch * epochs\n",
    "num_warmup_steps = int(0.1*num_train_steps)\n",
    "\n",
    "init_lr = 3e-5\n",
    "optimizer = optimization.create_optimizer(init_lr=init_lr,\n",
    "                                          num_train_steps=num_train_steps,\n",
    "                                          num_warmup_steps=num_warmup_steps,\n",
    "                                          optimizer_type='adamw')"
   ]
  },
  {
   "cell_type": "markdown",
   "metadata": {
    "id": "SqlarlpC_v0g"
   },
   "source": [
    "### Loading the BERT model and training\n",
    "\n",
    "Using the `classifier_model` you created earlier, you can compile the model with the loss, metric and optimizer."
   ]
  },
  {
   "cell_type": "code",
   "execution_count": 33,
   "metadata": {
    "execution": {
     "iopub.execute_input": "2021-11-12T13:00:38.152662Z",
     "iopub.status.busy": "2021-11-12T13:00:38.152062Z",
     "iopub.status.idle": "2021-11-12T13:00:38.157722Z",
     "shell.execute_reply": "2021-11-12T13:00:38.158099Z"
    },
    "id": "-7GPDhR98jsD"
   },
   "outputs": [],
   "source": [
    "classifier_model.compile(optimizer=optimizer, loss=loss, metrics=metrics)"
   ]
  },
  {
   "cell_type": "markdown",
   "metadata": {
    "id": "CpBuV5j2cS_b"
   },
   "source": [
    "Note: training time will vary depending on the complexity of the BERT model you have selected."
   ]
  },
  {
   "cell_type": "code",
   "execution_count": 34,
   "metadata": {
    "execution": {
     "iopub.execute_input": "2021-11-12T13:00:38.162923Z",
     "iopub.status.busy": "2021-11-12T13:00:38.162332Z",
     "iopub.status.idle": "2021-11-12T13:07:39.934896Z",
     "shell.execute_reply": "2021-11-12T13:07:39.935319Z"
    },
    "id": "HtfDFAnN_Neu"
   },
   "outputs": [
    {
     "name": "stdout",
     "output_type": "stream",
     "text": [
      "Training model with https://tfhub.dev/google/electra_small/2\n",
      "Epoch 1/4\n",
      "625/625 [==============================] - 236s 366ms/step - loss: 0.4157 - binary_accuracy: 0.8194 - val_loss: 0.3871 - val_binary_accuracy: 0.8596\n",
      "Epoch 2/4\n",
      "625/625 [==============================] - 229s 366ms/step - loss: 0.3205 - binary_accuracy: 0.8980 - val_loss: 0.4002 - val_binary_accuracy: 0.8510\n",
      "Epoch 3/4\n",
      "625/625 [==============================] - 229s 366ms/step - loss: 0.2927 - binary_accuracy: 0.9168 - val_loss: 0.3941 - val_binary_accuracy: 0.8544\n",
      "Epoch 4/4\n",
      "625/625 [==============================] - 229s 366ms/step - loss: 0.2734 - binary_accuracy: 0.9276 - val_loss: 0.3863 - val_binary_accuracy: 0.8602\n"
     ]
    }
   ],
   "source": [
    "print(f'Training model with {handle_encoder}')\n",
    "history = classifier_model.fit(x=train_ds,\n",
    "                               validation_data=val_ds,\n",
    "                               epochs=epochs)"
   ]
  },
  {
   "cell_type": "markdown",
   "metadata": {
    "id": "uBthMlTSV8kn"
   },
   "source": [
    "### Evaluate the model\n",
    "\n",
    "Let's see how the model performs. Two values will be returned. Loss (a number which represents the error, lower values are better), and accuracy."
   ]
  },
  {
   "cell_type": "code",
   "execution_count": 35,
   "metadata": {
    "execution": {
     "iopub.execute_input": "2021-11-12T13:07:39.940316Z",
     "iopub.status.busy": "2021-11-12T13:07:39.939738Z",
     "iopub.status.idle": "2021-11-12T13:08:38.589871Z",
     "shell.execute_reply": "2021-11-12T13:08:38.589344Z"
    },
    "id": "slqB-urBV9sP"
   },
   "outputs": [
    {
     "name": "stdout",
     "output_type": "stream",
     "text": [
      "782/782 [==============================] - 97s 124ms/step - loss: 0.3718 - binary_accuracy: 0.8697\n",
      "Loss: 0.37175488471984863\n",
      "Accuracy: 0.8696799874305725\n"
     ]
    }
   ],
   "source": [
    "loss, accuracy = classifier_model.evaluate(test_ds)\n",
    "\n",
    "print(f'Loss: {loss}')\n",
    "print(f'Accuracy: {accuracy}')"
   ]
  },
  {
   "cell_type": "markdown",
   "metadata": {
    "id": "uttWpgmSfzq9"
   },
   "source": [
    "### Plot the accuracy and loss over time\n",
    "The following is largely unchanged, with minor edits"
   ]
  },
  {
   "cell_type": "code",
   "execution_count": 36,
   "metadata": {
    "execution": {
     "iopub.execute_input": "2021-11-12T13:08:38.615719Z",
     "iopub.status.busy": "2021-11-12T13:08:38.608760Z",
     "iopub.status.idle": "2021-11-12T13:08:38.903514Z",
     "shell.execute_reply": "2021-11-12T13:08:38.903930Z"
    },
    "id": "fiythcODf0xo"
   },
   "outputs": [
    {
     "name": "stdout",
     "output_type": "stream",
     "text": [
      "dict_keys(['loss', 'binary_accuracy', 'val_loss', 'val_binary_accuracy'])\n"
     ]
    },
    {
     "data": {
      "text/plain": "<matplotlib.legend.Legend at 0x17343ae0dc0>"
     },
     "execution_count": 36,
     "metadata": {},
     "output_type": "execute_result"
    },
    {
     "data": {
      "text/plain": "<Figure size 720x432 with 2 Axes>",
      "image/png": "[encoded data removed]"
     },
     "metadata": {
      "needs_background": "light"
     },
     "output_type": "display_data"
    }
   ],
   "source": [
    "history_dict = history.history\n",
    "print(history_dict.keys())\n",
    "\n",
    "acc = history_dict['binary_accuracy']\n",
    "val_acc = history_dict['val_binary_accuracy']\n",
    "loss = history_dict['loss']\n",
    "val_loss = history_dict['val_loss']\n",
    "\n",
    "epochs = range(1, len(acc) + 1)\n",
    "fig = plt.figure(figsize=(10, 6))\n",
    "fig.tight_layout()\n",
    "\n",
    "plt.subplot(2, 1, 1)\n",
    "\n",
    "plt.plot(epochs, loss, 'r', label='Training loss')\n",
    "plt.plot(epochs, val_loss, 'b', label='Validation loss')\n",
    "\n",
    "plt.title('Training and validation loss')\n",
    "plt.ylabel('Loss')\n",
    "plt.legend()\n",
    "\n",
    "plt.subplot(2, 1, 2)\n",
    "plt.plot(epochs, acc, 'r', label='Training acc')\n",
    "plt.plot(epochs, val_acc, 'b', label='Validation acc')\n",
    "plt.title('Training and validation accuracy')\n",
    "plt.xlabel('Epochs')\n",
    "plt.ylabel('Accuracy')\n",
    "plt.legend(loc='lower right')"
   ]
  },
  {
   "cell_type": "markdown",
   "metadata": {
    "id": "WzJZCo-cf-Jf"
   },
   "source": [
    "In this plot, the red lines represent the training loss and accuracy, and the blue lines are the validation loss and accuracy."
   ]
  },
  {
   "cell_type": "markdown",
   "metadata": {
    "id": "Rtn7jewb6dg4"
   },
   "source": [
    "## Export for inference\n",
    "\n",
    "Now you just save your fine-tuned model for later use."
   ]
  },
  {
   "cell_type": "code",
   "execution_count": 37,
   "metadata": {
    "execution": {
     "iopub.execute_input": "2021-11-12T13:08:38.915085Z",
     "iopub.status.busy": "2021-11-12T13:08:38.910462Z",
     "iopub.status.idle": "2021-11-12T13:08:44.894271Z",
     "shell.execute_reply": "2021-11-12T13:08:44.893545Z"
    },
    "id": "ShcvqJAgVera",
    "pycharm": {
     "name": "#%%\n"
    }
   },
   "outputs": [
    {
     "name": "stderr",
     "output_type": "stream",
     "text": [
      "WARNING:absl:Found untraced functions such as restored_function_body, restored_function_body, restored_function_body, restored_function_body, restored_function_body while saving (showing 5 of 900). These functions will not be directly callable after loading.\n"
     ]
    }
   ],
   "source": [
    "saved_model_path = './imdb_electra'\n",
    "classifier_model.save(saved_model_path, include_optimizer=False)"
   ]
  }
 ],
 "metadata": {
  "colab": {
   "collapsed_sections": [],
   "name": "classify_text_with_bert.ipynb",
   "provenance": [],
   "toc_visible": true
  },
  "kernelspec": {
   "display_name": "Python 3",
   "language": "python",
   "name": "python3"
  },
  "language_info": {
   "codemirror_mode": {
    "name": "ipython",
    "version": 3
   },
   "file_extension": ".py",
   "mimetype": "text/x-python",
   "name": "python",
   "nbconvert_exporter": "python",
   "pygments_lexer": "ipython3",
   "version": "3.9.0"
  }
 },
 "nbformat": 4,
 "nbformat_minor": 1
}