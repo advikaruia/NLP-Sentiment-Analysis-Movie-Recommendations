{
 "cells": [
  {
   "cell_type": "code",
   "execution_count": 18,
   "id": "4612aa10",
   "metadata": {},
   "outputs": [],
   "source": [
    "import numpy as np\n",
    "import pandas as pd\n",
    "\n",
    "\n",
    "vectors= \"../movie-reviews-vectorized-data.csv\"\n",
    "\n",
    "#reading and extracting negative and positive vectors\n",
    "vectors = pd.read_csv(vectors)\n",
    "df= pd.DataFrame(vectors)\n",
    "negative = df[:1000]\n",
    "negative = negative.iloc[:,4:]\n",
    "positive= df[1000:]\n",
    "positive=positive.iloc[:,4:]"
   ]
  },
  {
   "cell_type": "code",
   "execution_count": 16,
   "id": "9edfa43d",
   "metadata": {},
   "outputs": [],
   "source": [
    "#splitting data into training and testing sets\n",
    "#concatenating negative reviews' and positive reviews' vectors\n",
    "training= negative[:500].append(positive[:500])\n",
    "training=training.to_numpy()\n",
    "\n",
    "test=negative[500:].append(positive[500:])\n",
    "test=test.to_numpy()\n",
    "\n",
    "#negative reviews are mapped to 0 and positive reviews are mapped to 1\n",
    "# creating target vector to with 0's and 1's corresponding to the input vectors' classification\n",
    "neg_target= np.zeros((500),int)\n",
    "pos_target= np.ones((500),int)\n",
    "target= np.concatenate((neg_target,pos_target))\n"
   ]
  },
  {
   "cell_type": "code",
   "execution_count": 13,
   "id": "321ad4fd",
   "metadata": {},
   "outputs": [
    {
     "name": "stdout",
     "output_type": "stream",
     "text": [
      "training accuracy: 0.931\n",
      "testing accuracy: 0.916\n"
     ]
    }
   ],
   "source": [
    "from sklearn.naive_bayes import MultinomialNB\n",
    "\n",
    "#training the Multinomial Naive Bayes model with training data\n",
    "clf= MultinomialNB()\n",
    "clf.fit(training,target)\n",
    "\n",
    "\n",
    "\n",
    "\n",
    "# testing the model with training data\n",
    "predict_training = clf.predict(training)\n",
    "\n",
    "#calculate training accuracy\n",
    "train_error=0\n",
    "for i in range(1000):\n",
    "     if predict_training[i]!=target[i]:\n",
    "            train_error+=1\n",
    "training_accuracy=(1000-train_error)/1000\n",
    "print(\"training accuracy:\", training_accuracy)\n",
    "\n",
    "\n",
    "\n",
    "\n",
    "\n",
    "# testing the model with training data\n",
    "predict_test = clf.predict(test)\n",
    "\n",
    "#calculate testing accuracy\n",
    "test_error=0\n",
    "for i in range(1000):\n",
    "    if predicted_test[i]!=target[i]:\n",
    "        test_error+=1\n",
    "test_accuracy=(1000-test_error)/1000\n",
    "print(\"testing accuracy:\",test_accuracy)"
   ]
  },
  {
   "cell_type": "code",
   "execution_count": null,
   "id": "d8422254",
   "metadata": {},
   "outputs": [],
   "source": []
  },
  {
   "cell_type": "code",
   "execution_count": null,
   "id": "80624818",
   "metadata": {},
   "outputs": [],
   "source": []
  }
 ],
 "metadata": {
  "kernelspec": {
   "display_name": "Python 3",
   "language": "python",
   "name": "python3"
  },
  "language_info": {
   "codemirror_mode": {
    "name": "ipython",
    "version": 3
   },
   "file_extension": ".py",
   "mimetype": "text/x-python",
   "name": "python",
   "nbconvert_exporter": "python",
   "pygments_lexer": "ipython3",
   "version": "3.8.8"
  }
 },
 "nbformat": 4,
 "nbformat_minor": 5
}
